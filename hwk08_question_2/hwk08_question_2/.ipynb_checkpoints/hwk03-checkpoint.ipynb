{
 "cells": [
  {
   "cell_type": "markdown",
   "metadata": {},
   "source": [
    "There are standard modules that you probably always want to load at the beginning of your program.\n",
    "- `numpy` which allows using vectors,matrices,random numbers,equation solvers, and much more)\n",
    "- `matplotlib.pyplot` to make figures \n",
    "\n",
    "Here we also load `pandas` which creates nice tables and can be used to load data from Excel files like we did in HW 1."
   ]
  },
  {
   "cell_type": "code",
   "execution_count": null,
   "metadata": {},
   "outputs": [],
   "source": [
    "# Import Numpy and Matplotlib libraries\n",
    "import numpy as np\n",
    "import matplotlib.pyplot as plt"
   ]
  },
  {
   "cell_type": "markdown",
   "metadata": {},
   "source": [
    "### What you have to do! Find XXX and replace with Python code\n",
    "\n",
    "\n",
    "### The Problem\n",
    "Recall that the question tells us that TFP $A$ evolves according to the following equation\n",
    "\n",
    "$$\n",
    "\\dot{A} = L_A^{\\lambda} A^{\\phi}.\n",
    "$$\n",
    "\n",
    "We are given the hint to approximate time with discrete intervals $dt = 0.01$. Thus, time evolves as\n",
    "$[1,1.01,1.02,...]$. We therefore approximate the evolution of TFP by $\\dot{A} \\approx\n",
    "\\frac{A_{t+dt} - A_t}{dt}$ or\n",
    "\n",
    "$$\n",
    "A_{t+dt} = A_t + \\left(L_{A,t}^{\\lambda} A_t^{\\phi}\\right) * dt.\n",
    "$$\n",
    "\n",
    "Likewise, we will approximate population growth by $\\dot{L} \\approx \\frac{L_{t+dt} - L_t}{dt}$ or\n",
    "\n",
    "$$\n",
    "L_{t+dt} = L_t + (n L_t) * dt.\n",
    "$$\n",
    "\n"
   ]
  },
  {
   "cell_type": "markdown",
   "metadata": {},
   "source": [
    "### Main Function\n",
    "We will now write a function that takes as inputs the population growth rate $n$, the decreasing\n",
    "returns parameter on labour $\\lambda$, the initial value for labour $L_{A,0}$, the total period\n",
    "length $T$, and the timestep $dt$.\n",
    "\n",
    "Our function will start with initial conditions and iterate the system forward for $T$ time periods,\n",
    "each of length $dt$. In code, this will involve a `for` loop.\n",
    "\n",
    "Hint: If you don't know what a `for` loop is you will find plenty of help online. Or see the basic\n",
    "example below to compute the sum of a list of numbers `x = [1, 2, 3, 4, 5]`."
   ]
  },
  {
   "cell_type": "code",
   "execution_count": 1,
   "metadata": {},
   "outputs": [
    {
     "name": "stdout",
     "output_type": "stream",
     "text": [
      "1\n",
      "2\n",
      "3\n"
     ]
    }
   ],
   "source": [
    "x = [1, 2, 3]\n",
    "for value in x:\n",
    "    print(value)"
   ]
  },
  {
   "cell_type": "code",
   "execution_count": null,
   "metadata": {},
   "outputs": [],
   "source": [
    "# Let us do the interesting bit now and construct our function that iterates from initial values\n",
    "\n",
    "def iterate_forward(n, lam, phi, L0, A0, T, dt):\n",
    "\n",
    "    # Initialise empty arrays (= vectors) to be filled in our iteration\n",
    "    # The vectors will be of length T: A[0] will correspond to time 1, A[1] to time 1.01, A[2] to\n",
    "    # time 1.02m and so forth until A[T-1] which corresponds to time 1+(T-1)*dt\n",
    "    A_path = np.empty(T) \n",
    "    L_path = XXX\n",
    "\n",
    "    A_path[0] = A0 # A[0] is our initial condition and which is known and denoted by A0\n",
    "    L_path[0] = XXX # L[0] is our initial condition and which is known and denoted by L0\n",
    "\n",
    "    for t in range(T-1):\n",
    "        # for each t we will need to compute A(t+dt) and L(t+dt) using the formulas above\n",
    "        A_path[t+1] = XXX\n",
    "        L_path[t+1] = XXX\n",
    "    \n",
    "    # Let us compute the growth rate\n",
    "    # Initialise the vector of growth rates\n",
    "    gA_path = np.empty(T-1) # Now a vector of length T-1 as we lose one element by differencing\n",
    "\n",
    "    for t in range(T-1):\n",
    "        # for each t we will need to compute the growth rate. Hint: approximate A_dot / A\n",
    "        gA_path[t] = XXX\n",
    "\n",
    "    # We will return 3 values: the growth rate of A, the time path for A and the time path for L\n",
    "    return (gA_path, A_path, L_path)"
   ]
  },
  {
   "cell_type": "code",
   "execution_count": null,
   "metadata": {},
   "outputs": [],
   "source": [
    "# Set parameters\n",
    "n = 0.02    # population growth rate\n",
    "L0 = 1.     # initial population\n",
    "\n",
    "dt = 0.01   # time step\n",
    "T = XXX # set time some total time horizon\n",
    "trange = 1 + np.arange(T) * dt # this now gives us the time sequence [1, 1.01, 1.02, ...] (look up numpy.arange)"
   ]
  },
  {
   "cell_type": "markdown",
   "metadata": {},
   "source": [
    "We now compute the time paths for each of the six cases.\n",
    "\n",
    "1. $n=0.02$, $\\lambda=1$, $\\phi=0$, $L_A(1) = 1$, and $1/n$.\n",
    "2. $n=0.02$, $\\lambda=1$, $\\phi=0$, $L_A(1) = 1$, and $0.1/n$.\n",
    "3. $n=0.02$, $\\lambda=1$, $\\phi=0$, $L_A(1) = 1$, and $50/n$.\n",
    "4. $n=0.02$, $\\lambda=1/2$, $\\phi=1/2$, $L_A(1) = 1$, and $(1/n)^2$.\n",
    "5. $n=0.02$, $\\lambda=1/2$, $\\phi=1/2$, $L_A(1) = 1$, and $(0.1/n)^2$.\n",
    "6. $n=0.02$, $\\lambda=1/2$, $\\phi=1/2$, $L_A(1) = 1$, and $(50/n)^2$."
   ]
  },
  {
   "cell_type": "code",
   "execution_count": null,
   "metadata": {},
   "outputs": [],
   "source": [
    "# Case 1\n",
    "gA_path1, A_path1, L_path1 = iterate_forward(n=XXX, lam=XXX, phi=XXX, L0=XXX, A0=XXX, T=XXX, dt=XXX)\n",
    "# Case 2\n",
    "gA_path2, A_path2, L_path2 = iterate_forward(n=XXX, lam=XXX, phi=XXX, L0=XXX, A0=XXX, T=XXX, dt=XXX)\n",
    "# Case 3\n",
    "gA_path3, A_path3, L_path3 = iterate_forward(n=XXX, lam=XXX, phi=XXX, L0=XXX, A0=XXX, T=XXX, dt=XXX)\n",
    "# Case 4\n",
    "gA_path4, A_path4, L_path4 = iterate_forward(n=XXX, lam=XXX, phi=XXX, L0=XXX, A0=XXX, T=XXX, dt=XXX)\n",
    "# Case 5\n",
    "gA_path5, A_path5, L_path5 = iterate_forward(n=XXX, lam=XXX, phi=XXX, L0=XXX, A0=XXX, T=XXX, dt=XXX)\n",
    "# Case 6\n",
    "gA_path6, A_path6, L_path6 = iterate_forward(n=XXX, lam=XXX, phi=XXX, L0=XXX, A0=XXX, T=XXX, dt=XXX)"
   ]
  },
  {
   "cell_type": "markdown",
   "metadata": {},
   "source": [
    "Congratulations! You've just simulated time paths for 6 different cases. Take a time to appreciate\n",
    "the beauty of this. By writing a function to do the iteration, we only needed change the arguments\n",
    "of the function. We saved lots of lines of code, making the code both easier to read and less prone\n",
    "to errors."
   ]
  },
  {
   "cell_type": "markdown",
   "metadata": {},
   "source": [
    "The last thing that we need to do is to plot the time paths for the first and the last three cases, respectively."
   ]
  },
  {
   "cell_type": "code",
   "execution_count": null,
   "metadata": {},
   "outputs": [],
   "source": [
    "# Cases 1 to 3\n",
    "\n",
    "# Initialise the figure and 3 subplots: (i) for the time path of gA (ii) time path of A (iii) time\n",
    "# path of L\n",
    "fig, (ax1, ax2, ax3) = plt.subplots(1, 3, figsize = (8.5, 4.7)) # this creates 3 subplots\n",
    "\n",
    "# Plot time paths for growth rates\n",
    "ax1.plot(trange[1:], XXX, label='Model (1)')\n",
    "ax1.plot(trange[1:], XXX, label='Model (2)')\n",
    "ax1.plot(trange[1:], XXX, label='Model (3)')\n",
    "\n",
    "# Plot time paths of log (!) TFP. Hint: use np.log() function\n",
    "ax2.plot(trange, XXX, label='Model (1)')\n",
    "ax2.plot(trange, XXX, label='Model (2)')\n",
    "ax2.plot(trange, XXX, label='Model (3)')\n",
    "\n",
    "# Plot time paths of log (!) population.\n",
    "ax3.plot(trange, XXX, label='Model (1)')\n",
    "ax3.plot(trange, XXX, label='Model (2)')\n",
    "ax3.plot(trange, XXX, label='Model (3)')\n",
    "\n",
    "# Provide titles and legend to plots\n",
    "fig.suptitle(r'$\\lambda = 1$ and $\\phi = 0$')\n",
    "ax1.set_title('Growth Rate TFP')\n",
    "ax2.set_title('TFP Level')\n",
    "ax3.set_title('Population Level')\n",
    "\n",
    "ax1.legend()\n",
    "ax2.legend()\n",
    "ax3.legend()"
   ]
  },
  {
   "cell_type": "code",
   "execution_count": null,
   "metadata": {},
   "outputs": [],
   "source": [
    "# Cases 4 to 6\n",
    "\n",
    "# Initialise the figure and 3 subplots: (i) for the time path of gA (ii) time path of A (iii) time\n",
    "# path of L\n",
    "fig, (ax1, ax2, ax3) = plt.subplots(1, 3, figsize = (8.5, 4.7)) # this creates 3 subplots\n",
    "\n",
    "# Plot time paths for growth rates\n",
    "ax1.plot(trange[1:], XXX, label='Model (4)')\n",
    "ax1.plot(trange[1:], XXX, label='Model (5)')\n",
    "ax1.plot(trange[1:], XXX, label='Model (6)')\n",
    "\n",
    "# Plot time paths of log (!) TFP. Hint: use np.log() function\n",
    "ax2.plot(trange, XXX, label='Model (4)')\n",
    "ax2.plot(trange, XXX, label='Model (5)')\n",
    "ax2.plot(trange, XXX, label='Model (6)')\n",
    "\n",
    "# Plot time paths of log (!) population.\n",
    "ax3.plot(trange, XXX, label='Model (4)')\n",
    "ax3.plot(trange, XXX, label='Model (5)')\n",
    "ax3.plot(trange, XXX, label='Model (6)')\n",
    "\n",
    "# Provide titles and legend to plots\n",
    "fig.suptitle(r'$\\lambda = \\phi = 1/2$')\n",
    "ax1.set_title('Growth Rate TFP')\n",
    "ax2.set_title('TFP Level')\n",
    "ax3.set_title('Population Level')\n",
    "\n",
    "ax1.legend()\n",
    "ax2.legend()\n",
    "ax3.legend()"
   ]
  },
  {
   "cell_type": "code",
   "execution_count": null,
   "metadata": {},
   "outputs": [],
   "source": []
  }
 ],
 "metadata": {
  "kernelspec": {
   "display_name": "Python 3 (ipykernel)",
   "language": "python",
   "name": "python3"
  },
  "language_info": {
   "codemirror_mode": {
    "name": "ipython",
    "version": 3
   },
   "file_extension": ".py",
   "mimetype": "text/x-python",
   "name": "python",
   "nbconvert_exporter": "python",
   "pygments_lexer": "ipython3",
   "version": "3.9.12"
  },
  "vscode": {
   "interpreter": {
    "hash": "fc4bb3b327af40eda0e30ffeffcd4e3c2424c48a14a9f240d72686c7663f176e"
   }
  }
 },
 "nbformat": 4,
 "nbformat_minor": 2
}
