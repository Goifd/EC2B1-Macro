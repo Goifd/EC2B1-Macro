{
 "cells": [
  {
   "cell_type": "markdown",
   "metadata": {},
   "source": [
    "We start by loading the modules that we will need for our program. We use two different commands:\n",
    "\n",
    "- `import module as module_name` : This loads the module `module` under the name `module_name` which\n",
    "  is the name which we refer the module to. That is, to call a function from the module we will need\n",
    "  to use the command `module_name.function()`.\n",
    "- `from module import function` : This loads a specific function from the module. Importantly, to use\n",
    "  the function in the code below we only need to call `function()`.\n",
    "- Note that `module_name.function()` and `function()` perform exactly the same tasks."
   ]
  },
  {
   "cell_type": "markdown",
   "metadata": {},
   "source": [
    "The modules we will be using are the following.\n",
    "\n",
    "- `Numpy`: This is the fundamental package/module for scientific computing in Python.\n",
    "- `get_regression_coefs`: This is the .py file that contains the linear regression function of the same\n",
    "name. This is to show that you can of course also create your own modules as .py files.\n",
    "- `Pandas`: This is the fundamental module for data anlysis in Python. This is used for loading,\n",
    "cleaning and analysing data.\n",
    "- `Matplolib`: This is the fundamental module for plotting."
   ]
  },
  {
   "cell_type": "markdown",
   "metadata": {},
   "source": [
    "**Tip:** Python has excellent documentation. If you do not understand the properties of a function and\n",
    "/ or are looking for other features check them online, e.g. [Numpy](https://numpy.org/doc/stable/index.html), [Pandas](https://pandas.pydata.org/docs/index.html), [Matplotlib](https://matplotlib.org/)."
   ]
  },
  {
   "cell_type": "code",
   "execution_count": 4,
   "metadata": {},
   "outputs": [],
   "source": [
    "# 0) Decide whether you are up for a challenge. If yes, set ix_challenge to `True`\n",
    "ix_challenge = False"
   ]
  },
  {
   "cell_type": "code",
   "execution_count": 5,
   "metadata": {},
   "outputs": [],
   "source": [
    "# 1) import modules\n",
    "import numpy as np # import scientific library\n",
    "if ix_challenge == False:\n",
    "    from get_regression_coefs import get_regression_coefs # import our function to get GDP trend\n",
    "elif ix_challenge == True:\n",
    "    from get_regression_coefs_incomplete import get_regression_coefs\n",
    "import pandas as pd # import library for data analysis\n",
    "\n",
    "# For plotting\n",
    "import matplotlib.pyplot as plt\n",
    "import seaborn as sns # for nicer plots (not essential)\n",
    "sns.set_theme('talk', style = 'white')"
   ]
  },
  {
   "cell_type": "code",
   "execution_count": null,
   "metadata": {},
   "outputs": [],
   "source": [
    "# 2.1) Load dataset\n",
    "data = pd.read_excel('pwt100.xlsx', sheet_name = 'Data', header = 0)"
   ]
  },
  {
   "cell_type": "code",
   "execution_count": null,
   "metadata": {},
   "outputs": [],
   "source": [
    "# 2.2) Clean data\n",
    "\n",
    "# Subset relevant columns and compute per capita real GDP\n",
    "# The .loc property is used for indexing; see here for more https://pandas.pydata.org/docs/reference/api/pandas.DataFrame.loc.html\n",
    "data = data.loc[:, (\"country\", \"year\", \"rgdpe\", \"pop\")]\n",
    "data[\"rgdpe_pc\"] = data[\"rgdpe\"] / data[\"pop\"]\n",
    "\n",
    "# Select your country as a country\n",
    "data = data.loc[data[\"country\"] == XXX, (\"year\", \"rgdpe_pc\")]\n",
    "# Reset the index (not crucial)\n",
    "data = data.reset_index(drop = True)\n",
    "\n",
    "# Subset the RGDP per capita series\n",
    "ymax = XXX\n",
    "ymin = XXX\n",
    "# We use logical indexing to subset the data to rows of years ymin <= year <= ymax\n",
    "Y = data.loc[np.logical_and(data[\"year\"] <= ymax, data[\"year\"] >= ymin), \"rgdpe_pc\"]\n",
    "y = np.log(Y)\n",
    "\n",
    "data = data[data[\"year\"] >= ymin] # we keep only years after ymin\n",
    "\n",
    "# Compute separate sample sizes for the subsample used for estimation and the whole sample.\n",
    "T = len(Y) # sample size used for regression\n",
    "T_all = data[\"year\"].max() - (ymin - 1) # number of all years in the data after ymin"
   ]
  },
  {
   "cell_type": "markdown",
   "metadata": {},
   "source": [
    "```# 3) Compute different trend specifications```\n",
    "\n",
    "We will now compute four different specifications: (i) additive + linear (ii) additive + quadratic\n",
    "(iii) exponential + linear and (iv) exponential + quadratic.\n",
    "\n",
    "We will not do anything extraordinary, but simply run a linear regression. In Stata, you would run\n",
    "`reg y x1 x2`. In R, you would run `lm(formula = y ~ x1 + x2, data)`. We will run\n",
    "`get_regression_coefs(y, x1, x2)` in Python. The difference is that we will write this function\n",
    "**ourselves**. The gain is that you will understand what's going on under the hood of your\n",
    "program!!\n",
    "\n",
    "To see what `get_regression_coefs(y, x1, x2)` does in more details see the get_regression_coefs.py\n",
    "file or call `help(get_regression_coefs)`.\n",
    "\n",
    "*(See the problem set instructions for a detailed explanations of the approach.)*"
   ]
  },
  {
   "cell_type": "code",
   "execution_count": null,
   "metadata": {},
   "outputs": [],
   "source": [
    "# 3.1) Additive Models\n",
    "# 3.1.1) Additive, Linear Model\n",
    "# First regressor x1 is T x 1 vector of ones, second regressor x2 is the vector 1, 2, ..., T\n",
    "# The dependent variable is per capita GDP in *levels*\n",
    "\n",
    "x1 = np.empty(T) # initialise an empty vector for the first regressor\n",
    "x2 = np.empty(T) # initialise an empty vector for the second regressor\n",
    "\n",
    "for t in range(T):\n",
    "    x1[t] = 1.\n",
    "    x2[t] = t + 1 # recall that Python starts indexing at 0\n",
    "\n",
    "a_add_lin, b_add_lin = get_regression_coefs(Y, x1, x2)"
   ]
  },
  {
   "cell_type": "markdown",
   "metadata": {},
   "source": [
    "Having computed the coefficients, we can now evaluate the trend for the entire time series, i.e.\n",
    "also for years later than those used in the regression."
   ]
  },
  {
   "cell_type": "code",
   "execution_count": null,
   "metadata": {},
   "outputs": [],
   "source": [
    "# Initialise predicted values yhat\n",
    "Yhat_add_lin = np.empty(T_all)\n",
    "\n",
    "# Create loop to compute trend for all years\n",
    "for t in range(T_all):\n",
    "    Yhat_add_lin[t] = a_add_lin + b_add_lin * (t + 1) # recall that Python indexing starts at 0\n",
    "\n",
    "# Let us convert into log-units\n",
    "yhat_add_lin = np.log(Yhat_add_lin)"
   ]
  },
  {
   "cell_type": "markdown",
   "metadata": {},
   "source": [
    "You have now seen a solved example of how to estimate and evaluate the trend model for the additive,\n",
    "linear case. You will now be asked to fill in the remaining code. Places where you should fill in\n",
    "your own code are denoted by `XXX`."
   ]
  },
  {
   "cell_type": "code",
   "execution_count": null,
   "metadata": {},
   "outputs": [],
   "source": [
    "# 3.1.2) Additive, Quadratic Model\n",
    "# Let us repeat the above for a quadratic specification. Now we also need a third regressor with\n",
    "# values t**2 (which is t^2 in Python)\n",
    "# What will be the dependent variable for the additive model?\n",
    "\n",
    "x1, x2, x3 = np.empty(T), np.empty(T), np.empty(T)\n",
    "# same as x1 = np.empty(T); x2 = np.empty(T); x3 = np.empty(T) all in separate lines\n",
    "# even more elegant: x1, x2, x3 = [np.empty(T) for j in range(3)]\n",
    "\n",
    "# Create loop to construct vector of regressors\n",
    "for t in range(T):\n",
    "    x1[t] = XXX\n",
    "    x2[t] = XXX\n",
    "    x3[t] = XXX\n",
    "\n",
    "a_add_quad, b1_add_quad, b2_add_quad = get_regression_coefs(XXX, x1, x2, x3)\n",
    "\n",
    "# Initialise predicted values yhat\n",
    "Yhat_add_quad = np.empty(T_all)\n",
    "\n",
    "# Create loop to compute trend for all years\n",
    "for t in range(T_all):\n",
    "    Yhat_add_quad[t] = XXX\n",
    "\n",
    "# Let us convert into log-units\n",
    "yhat_add_quad = np.log(Yhat_add_quad)"
   ]
  },
  {
   "cell_type": "code",
   "execution_count": null,
   "metadata": {},
   "outputs": [],
   "source": [
    "# 3.2) Exponential Model\n",
    "# Independent variables are exactly as before. Which dependent variable will we use? Be careful\n",
    "# about the scaling of units!\n",
    "\n",
    "# 3.2.1) Exponential, Linear Model\n",
    "x1, x2 = np.empty(T), np.empty(T) # initialise an empty vector for the first regressor\n",
    "\n",
    "for t in range(T):\n",
    "    x1[t] = XXX\n",
    "    x2[t] = XXX # recall that Python starts indexing at 0\n",
    "\n",
    "a_exp_lin, b_exp_lin = get_regression_coefs(XXX, x1, x2)\n",
    "\n",
    "# Initialise predicted values yhat\n",
    "yhat_exp_lin = np.empty(T_all)\n",
    "\n",
    "# Create loop to compute trend for all years\n",
    "for t in range(T_all):\n",
    "    yhat_exp_lin[t] = XXX # recall that Python indexing starts at 0"
   ]
  },
  {
   "cell_type": "code",
   "execution_count": null,
   "metadata": {},
   "outputs": [],
   "source": [
    "# 3.2.2) Exponential, Quadratic model\n",
    "# Repeat above for quadratic specification\n",
    "\n",
    "x1, x2, x3 = np.empty(T), np.empty(T), np.empty(T) # initialise an empty vector for the first regressor\n",
    "\n",
    "for t in range(T):\n",
    "    x1[t] = XXX\n",
    "    x2[t] = XXX\n",
    "    x3[t] = XXX\n",
    "\n",
    "a_exp_quad, b1_exp_quad, b2_exp_quad = get_regression_coefs(XXX, x1, x2, x3)\n",
    "\n",
    "# Initialise predicted values yhat\n",
    "yhat_exp_quad = np.empty(T_all)\n",
    "\n",
    "# Create loop to compute trend for all years\n",
    "for t in range(T_all):\n",
    "    yhat_exp_quad[t] = XXX"
   ]
  },
  {
   "cell_type": "code",
   "execution_count": null,
   "metadata": {},
   "outputs": [],
   "source": [
    "# Congratulations!! You have now computed trend coefficients for four different models. Now it is\n",
    "# time to be creative and do some economics. Plot and discuss your findings below."
   ]
  }
 ],
 "metadata": {
  "kernelspec": {
   "display_name": "Python 3 (ipykernel)",
   "language": "python",
   "name": "python3"
  },
  "language_info": {
   "codemirror_mode": {
    "name": "ipython",
    "version": 3
   },
   "file_extension": ".py",
   "mimetype": "text/x-python",
   "name": "python",
   "nbconvert_exporter": "python",
   "pygments_lexer": "ipython3",
   "version": "3.9.12"
  },
  "vscode": {
   "interpreter": {
    "hash": "fc4bb3b327af40eda0e30ffeffcd4e3c2424c48a14a9f240d72686c7663f176e"
   }
  }
 },
 "nbformat": 4,
 "nbformat_minor": 2
}
